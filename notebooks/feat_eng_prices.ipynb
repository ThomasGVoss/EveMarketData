{
 "cells": [
  {
   "cell_type": "code",
   "execution_count": 7,
   "metadata": {},
   "outputs": [
    {
     "name": "stdout",
     "output_type": "stream",
     "text": [
      "Note: you may need to restart the kernel to use updated packages.\n"
     ]
    },
    {
     "name": "stderr",
     "output_type": "stream",
     "text": [
      "\n",
      "[notice] A new release of pip available: 22.3 -> 25.0.1\n",
      "[notice] To update, run: python.exe -m pip install --upgrade pip\n"
     ]
    },
    {
     "name": "stdout",
     "output_type": "stream",
     "text": [
      "Note: you may need to restart the kernel to use updated packages.\n"
     ]
    },
    {
     "name": "stderr",
     "output_type": "stream",
     "text": [
      "\n",
      "[notice] A new release of pip available: 22.3 -> 25.0.1\n",
      "[notice] To update, run: python.exe -m pip install --upgrade pip\n"
     ]
    },
    {
     "name": "stdout",
     "output_type": "stream",
     "text": [
      "Note: you may need to restart the kernel to use updated packages.\n"
     ]
    },
    {
     "name": "stderr",
     "output_type": "stream",
     "text": [
      "\n",
      "[notice] A new release of pip available: 22.3 -> 25.0.1\n",
      "[notice] To update, run: python.exe -m pip install --upgrade pip\n"
     ]
    }
   ],
   "source": [
    "%pip install polars --quiet\n",
    "%pip install matplotlib --quiet\n",
    "%pip install seaborn --quiet"
   ]
  },
  {
   "cell_type": "code",
   "execution_count": 8,
   "metadata": {},
   "outputs": [],
   "source": [
    "import pandas as pd\n",
    "import numpy as np"
   ]
  },
  {
   "cell_type": "code",
   "execution_count": 9,
   "metadata": {},
   "outputs": [],
   "source": [
    "input_url = \"s3://market-data-dev-142571790518/aggregated/market_prices\""
   ]
  },
  {
   "cell_type": "code",
   "execution_count": 10,
   "metadata": {},
   "outputs": [],
   "source": [
    "df_raw = pd.read_parquet(input_url)"
   ]
  },
  {
   "cell_type": "markdown",
   "metadata": {},
   "source": [
    "# Start from here"
   ]
  },
  {
   "cell_type": "code",
   "execution_count": 11,
   "metadata": {},
   "outputs": [],
   "source": [
    "df = df_raw.copy()"
   ]
  },
  {
   "cell_type": "code",
   "execution_count": 12,
   "metadata": {},
   "outputs": [],
   "source": [
    "df.sort_values(by=[\"processed_timestamp\"], inplace=True)\n",
    "df.reset_index(drop=True, inplace=True)\n",
    "df[\"processed_timestamp\"] = pd.to_datetime(df[\"processed_timestamp\"])"
   ]
  },
  {
   "cell_type": "markdown",
   "metadata": {},
   "source": [
    "# Basic clean up"
   ]
  },
  {
   "cell_type": "code",
   "execution_count": 13,
   "metadata": {},
   "outputs": [],
   "source": [
    "# Drop duplicates\n",
    "df.drop_duplicates(subset=[\"processed_timestamp\",\"type_id\"], inplace=True)"
   ]
  },
  {
   "cell_type": "code",
   "execution_count": 14,
   "metadata": {},
   "outputs": [],
   "source": [
    "# Cut the maximum price to 1.5 times the 90th percentile\n",
    "q1 = df['average_price'].quantile(0.25)\n",
    "q3 = df['average_price'].quantile(0.75)\n",
    "iqr = q3 - q1\n",
    "lower_bound = q1 - 1.5 * iqr\n",
    "upper_bound = q3 + 1.5 * iqr\n",
    "\n",
    "df.loc[df['average_price'] > upper_bound, 'average_price'] = upper_bound"
   ]
  },
  {
   "cell_type": "markdown",
   "metadata": {},
   "source": [
    "# Create hist. features"
   ]
  },
  {
   "cell_type": "code",
   "execution_count": 15,
   "metadata": {},
   "outputs": [],
   "source": [
    "for n in range(1,5):\n",
    "    df[f\"price_t-{n}\"] = df.groupby(\"type_id\").shift(n)[\"average_price\"]"
   ]
  },
  {
   "cell_type": "code",
   "execution_count": 16,
   "metadata": {},
   "outputs": [],
   "source": [
    "df[\"5_day_rolling_mean\"] = df.groupby('type_id')['average_price'].rolling(window=5,min_periods=1).mean().reset_index(level=0, drop=True)\n",
    "df[\"5_day_rolling_std\"] = df.groupby('type_id')['average_price'].rolling(window=5,min_periods=1).std().reset_index(level=0, drop=True)"
   ]
  },
  {
   "cell_type": "code",
   "execution_count": 17,
   "metadata": {},
   "outputs": [],
   "source": [
    "# Price changes\n",
    "df[\"price_change\"] = df.groupby('type_id')['average_price'].diff().ffill().bfill()\n",
    "# df[\"price_pct_change\"] = df[\"average_price\"].pct_change(fill_method=None)\n"
   ]
  },
  {
   "cell_type": "markdown",
   "metadata": {},
   "source": [
    "# Create Time based Features"
   ]
  },
  {
   "cell_type": "code",
   "execution_count": 18,
   "metadata": {},
   "outputs": [],
   "source": [
    "df['day_of_week'] = df[\"processed_timestamp\"].dt.day_of_week # 0 = Monday, 6 = Sunday\n",
    "df['is_weekend'] = df['day_of_week'].isin([5, 6]).astype(int)  # 1 if weekend, 0 otherwise\n",
    "df['month'] = df[\"processed_timestamp\"].dt.month\n",
    "df['hour'] = df[\"processed_timestamp\"].dt.hour"
   ]
  },
  {
   "cell_type": "markdown",
   "metadata": {},
   "source": [
    "# Pop out the time"
   ]
  },
  {
   "cell_type": "code",
   "execution_count": 19,
   "metadata": {},
   "outputs": [],
   "source": [
    "date_time = pd.to_datetime(df.pop('processed_timestamp'), format='%Y-%m-%d %H:%M:%S').drop_duplicates()"
   ]
  },
  {
   "cell_type": "markdown",
   "metadata": {},
   "source": [
    "# Sample one to look at it"
   ]
  },
  {
   "cell_type": "code",
   "execution_count": 20,
   "metadata": {},
   "outputs": [
    {
     "data": {
      "text/html": [
       "<div>\n",
       "<style scoped>\n",
       "    .dataframe tbody tr th:only-of-type {\n",
       "        vertical-align: middle;\n",
       "    }\n",
       "\n",
       "    .dataframe tbody tr th {\n",
       "        vertical-align: top;\n",
       "    }\n",
       "\n",
       "    .dataframe thead th {\n",
       "        text-align: right;\n",
       "    }\n",
       "</style>\n",
       "<table border=\"1\" class=\"dataframe\">\n",
       "  <thead>\n",
       "    <tr style=\"text-align: right;\">\n",
       "      <th></th>\n",
       "      <th>type_id</th>\n",
       "      <th>date</th>\n",
       "      <th>adjusted_price</th>\n",
       "      <th>average_price</th>\n",
       "      <th>source_path</th>\n",
       "      <th>avg_daily_price</th>\n",
       "      <th>min_daily_price</th>\n",
       "      <th>max_daily_price</th>\n",
       "      <th>record_count</th>\n",
       "      <th>price_t-1</th>\n",
       "      <th>price_t-2</th>\n",
       "      <th>price_t-3</th>\n",
       "      <th>price_t-4</th>\n",
       "      <th>5_day_rolling_mean</th>\n",
       "      <th>5_day_rolling_std</th>\n",
       "      <th>price_change</th>\n",
       "      <th>day_of_week</th>\n",
       "      <th>is_weekend</th>\n",
       "      <th>month</th>\n",
       "      <th>hour</th>\n",
       "    </tr>\n",
       "  </thead>\n",
       "  <tbody>\n",
       "    <tr>\n",
       "      <th>1408</th>\n",
       "      <td>81901</td>\n",
       "      <td>2025-04-05</td>\n",
       "      <td>0.0</td>\n",
       "      <td>500.0</td>\n",
       "      <td>raw/api-data/prices/year=2025/month=04/day=05/...</td>\n",
       "      <td>0.0</td>\n",
       "      <td>0.0</td>\n",
       "      <td>0.0</td>\n",
       "      <td>2</td>\n",
       "      <td>NaN</td>\n",
       "      <td>NaN</td>\n",
       "      <td>NaN</td>\n",
       "      <td>NaN</td>\n",
       "      <td>500.0</td>\n",
       "      <td>NaN</td>\n",
       "      <td>0.0</td>\n",
       "      <td>5</td>\n",
       "      <td>1</td>\n",
       "      <td>4</td>\n",
       "      <td>22</td>\n",
       "    </tr>\n",
       "    <tr>\n",
       "      <th>33863</th>\n",
       "      <td>81901</td>\n",
       "      <td>2025-04-06</td>\n",
       "      <td>0.0</td>\n",
       "      <td>500.0</td>\n",
       "      <td>raw/api-data/prices/year=2025/month=04/day=06/...</td>\n",
       "      <td>0.0</td>\n",
       "      <td>0.0</td>\n",
       "      <td>0.0</td>\n",
       "      <td>2</td>\n",
       "      <td>500.0</td>\n",
       "      <td>NaN</td>\n",
       "      <td>NaN</td>\n",
       "      <td>NaN</td>\n",
       "      <td>500.0</td>\n",
       "      <td>0.0</td>\n",
       "      <td>0.0</td>\n",
       "      <td>6</td>\n",
       "      <td>1</td>\n",
       "      <td>4</td>\n",
       "      <td>10</td>\n",
       "    </tr>\n",
       "    <tr>\n",
       "      <th>49528</th>\n",
       "      <td>81901</td>\n",
       "      <td>2025-04-06</td>\n",
       "      <td>0.0</td>\n",
       "      <td>500.0</td>\n",
       "      <td>raw/api-data/prices/year=2025/month=04/day=06/...</td>\n",
       "      <td>0.0</td>\n",
       "      <td>0.0</td>\n",
       "      <td>0.0</td>\n",
       "      <td>2</td>\n",
       "      <td>500.0</td>\n",
       "      <td>500.0</td>\n",
       "      <td>NaN</td>\n",
       "      <td>NaN</td>\n",
       "      <td>500.0</td>\n",
       "      <td>0.0</td>\n",
       "      <td>0.0</td>\n",
       "      <td>6</td>\n",
       "      <td>1</td>\n",
       "      <td>4</td>\n",
       "      <td>22</td>\n",
       "    </tr>\n",
       "    <tr>\n",
       "      <th>63649</th>\n",
       "      <td>81901</td>\n",
       "      <td>2025-04-07</td>\n",
       "      <td>0.0</td>\n",
       "      <td>500.0</td>\n",
       "      <td>raw/api-data/prices/year=2025/month=04/day=07/...</td>\n",
       "      <td>0.0</td>\n",
       "      <td>0.0</td>\n",
       "      <td>0.0</td>\n",
       "      <td>2</td>\n",
       "      <td>500.0</td>\n",
       "      <td>500.0</td>\n",
       "      <td>500.0</td>\n",
       "      <td>NaN</td>\n",
       "      <td>500.0</td>\n",
       "      <td>0.0</td>\n",
       "      <td>0.0</td>\n",
       "      <td>0</td>\n",
       "      <td>0</td>\n",
       "      <td>4</td>\n",
       "      <td>10</td>\n",
       "    </tr>\n",
       "    <tr>\n",
       "      <th>81229</th>\n",
       "      <td>81901</td>\n",
       "      <td>2025-04-07</td>\n",
       "      <td>0.0</td>\n",
       "      <td>500.0</td>\n",
       "      <td>raw/api-data/prices/year=2025/month=04/day=07/...</td>\n",
       "      <td>0.0</td>\n",
       "      <td>0.0</td>\n",
       "      <td>0.0</td>\n",
       "      <td>2</td>\n",
       "      <td>500.0</td>\n",
       "      <td>500.0</td>\n",
       "      <td>500.0</td>\n",
       "      <td>500.0</td>\n",
       "      <td>500.0</td>\n",
       "      <td>0.0</td>\n",
       "      <td>0.0</td>\n",
       "      <td>0</td>\n",
       "      <td>0</td>\n",
       "      <td>4</td>\n",
       "      <td>22</td>\n",
       "    </tr>\n",
       "  </tbody>\n",
       "</table>\n",
       "</div>"
      ],
      "text/plain": [
       "       type_id        date  adjusted_price  average_price  \\\n",
       "1408     81901  2025-04-05             0.0          500.0   \n",
       "33863    81901  2025-04-06             0.0          500.0   \n",
       "49528    81901  2025-04-06             0.0          500.0   \n",
       "63649    81901  2025-04-07             0.0          500.0   \n",
       "81229    81901  2025-04-07             0.0          500.0   \n",
       "\n",
       "                                             source_path  avg_daily_price  \\\n",
       "1408   raw/api-data/prices/year=2025/month=04/day=05/...              0.0   \n",
       "33863  raw/api-data/prices/year=2025/month=04/day=06/...              0.0   \n",
       "49528  raw/api-data/prices/year=2025/month=04/day=06/...              0.0   \n",
       "63649  raw/api-data/prices/year=2025/month=04/day=07/...              0.0   \n",
       "81229  raw/api-data/prices/year=2025/month=04/day=07/...              0.0   \n",
       "\n",
       "       min_daily_price  max_daily_price  record_count  price_t-1  price_t-2  \\\n",
       "1408               0.0              0.0             2        NaN        NaN   \n",
       "33863              0.0              0.0             2      500.0        NaN   \n",
       "49528              0.0              0.0             2      500.0      500.0   \n",
       "63649              0.0              0.0             2      500.0      500.0   \n",
       "81229              0.0              0.0             2      500.0      500.0   \n",
       "\n",
       "       price_t-3  price_t-4  5_day_rolling_mean  5_day_rolling_std  \\\n",
       "1408         NaN        NaN               500.0                NaN   \n",
       "33863        NaN        NaN               500.0                0.0   \n",
       "49528        NaN        NaN               500.0                0.0   \n",
       "63649      500.0        NaN               500.0                0.0   \n",
       "81229      500.0      500.0               500.0                0.0   \n",
       "\n",
       "       price_change  day_of_week  is_weekend  month  hour  \n",
       "1408            0.0            5           1      4    22  \n",
       "33863           0.0            6           1      4    10  \n",
       "49528           0.0            6           1      4    22  \n",
       "63649           0.0            0           0      4    10  \n",
       "81229           0.0            0           0      4    22  "
      ]
     },
     "execution_count": 20,
     "metadata": {},
     "output_type": "execute_result"
    }
   ],
   "source": [
    "df_sub = df.loc[df[\"type_id\"]==81901]\n",
    "df_sub.head()"
   ]
  },
  {
   "cell_type": "code",
   "execution_count": 21,
   "metadata": {},
   "outputs": [
    {
     "data": {
      "image/png": "[encoded data removed]",
      "text/plain": [
       "<Figure size 640x480 with 5 Axes>"
      ]
     },
     "metadata": {},
     "output_type": "display_data"
    }
   ],
   "source": [
    "df_sub = df.loc[(df[\"type_id\"] == 81901)]\n",
    "\n",
    "plot_cols = ['average_price','price_change','price_t-2','5_day_rolling_std','is_weekend']\n",
    "plot_features = df_sub[plot_cols]\n",
    "time_mask = -len(plot_features)\n",
    "plot_features.index = date_time[time_mask:]\n",
    "_ = plot_features.plot(subplots=True)"
   ]
  },
  {
   "cell_type": "code",
   "execution_count": null,
   "metadata": {},
   "outputs": [],
   "source": []
  }
 ],
 "metadata": {
  "kernelspec": {
   "display_name": ".venv",
   "language": "python",
   "name": "python3"
  },
  "language_info": {
   "codemirror_mode": {
    "name": "ipython",
    "version": 3
   },
   "file_extension": ".py",
   "mimetype": "text/x-python",
   "name": "python",
   "nbconvert_exporter": "python",
   "pygments_lexer": "ipython3",
   "version": "3.11.0"
  }
 },
 "nbformat": 4,
 "nbformat_minor": 2
}
